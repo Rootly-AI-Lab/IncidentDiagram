{
 "cells": [
  {
   "cell_type": "code",
   "execution_count": 20,
   "metadata": {},
   "outputs": [],
   "source": [
    "from incident_diagram.diagram import Diagram\n",
    "import os\n",
    "from IPython.display import display, Markdown, Latex\n",
    "import logging\n",
    "from smolagents import LogLevel\n"
   ]
  },
  {
   "cell_type": "markdown",
   "metadata": {},
   "source": [
    "### Modify the following commands with your values"
   ]
  },
  {
   "cell_type": "code",
   "execution_count": 21,
   "metadata": {},
   "outputs": [],
   "source": [
    "\n",
    "# Use a smallish codebase for the demo\n",
    "url = \"https://github.com/Rootly-AI-Lab/EventOrOutage\"\n",
    "\n",
    "os.environ[\"OPENAI_API_KEY\"] = os.getenv(\"OPENAI_API_KEY\") # Your OpenAI API Key\n",
    "# Read the incident summary from the example file\n",
    "with open('example_incident.txt', 'r') as f:\n",
    "    incident_summary = f.read()\n"
   ]
  },
  {
   "cell_type": "code",
   "execution_count": 22,
   "metadata": {},
   "outputs": [
    {
     "name": "stdout",
     "output_type": "stream",
     "text": [
      "Parsing code ...\n",
      "Parsing incident ...\n",
      "Generating components diagram ...\n",
      "Generating timeline ...\n",
      "Generating timeline chart ...\n"
     ]
    },
    {
     "data": {
      "text/markdown": [
       "```mermaid\n",
       "\n",
       "%%{init: {\"theme\": \"neutral\", \"flowchart\": {\"curve\": \"basis\"}}}%%\n",
       "flowchart TD\n",
       "    %% Define nodes with labels; affected nodes include italicized incident notes.\n",
       "    CLI[\"CLI\"]\n",
       "    BulkAnomalyAgent[\"BulkAnomalyAgent<br/><i>Library update caused a mismatch in LLM function call parameters (wrong function signature)</i>\"]\n",
       "    SingleAnomalyAgent[\"SingleAnomalyAgent\"]\n",
       "    NaiveAnomalyDetecter[\"NaiveAnomalyDetecter\"]\n",
       "    MarkdownGenerator[\"MarkdownGenerator\"]\n",
       "    LLMUtils[\"LLMUtils\"]\n",
       "    FileUtils[\"FileUtils\"]\n",
       "    SyntheticData[\"SyntheticData\"]\n",
       "    SyntheticDataGenerator[\"SyntheticDataGenerator\"]\n",
       "    Utils[\"Utils\"]\n",
       "    CalendarificAPITool[\"CalendarificAPITool\"]\n",
       "    HolidaysAPITool[\"HolidaysAPITool\"]\n",
       "    ProjectConfig[\"Project Configuration & Documentation<br/><i>.env configuration file removed from version control led to system startup failures on new production machines.</i>\"]\n",
       "    CodeAgent[\"CodeAgent\"]\n",
       "\n",
       "    %% Define edges based on relationships\n",
       "    CLI --> SingleAnomalyAgent\n",
       "    CLI --> BulkAnomalyAgent\n",
       "    CLI --> NaiveAnomalyDetecter\n",
       "    CLI --> MarkdownGenerator\n",
       "    CLI --> FileUtils\n",
       "\n",
       "    BulkAnomalyAgent --> LLMUtils\n",
       "    BulkAnomalyAgent --> HolidaysAPITool\n",
       "    BulkAnomalyAgent --> CalendarificAPITool\n",
       "    BulkAnomalyAgent --> Utils\n",
       "    BulkAnomalyAgent --> CodeAgent\n",
       "\n",
       "    SingleAnomalyAgent --> LLMUtils\n",
       "    SingleAnomalyAgent --> HolidaysAPITool\n",
       "    SingleAnomalyAgent --> CalendarificAPITool\n",
       "    SingleAnomalyAgent --> Utils\n",
       "    SingleAnomalyAgent --> CodeAgent\n",
       "\n",
       "    NaiveAnomalyDetecter --> CLI\n",
       "\n",
       "    MarkdownGenerator --> FileUtils\n",
       "    MarkdownGenerator --> CLI\n",
       "    MarkdownGenerator --> SyntheticDataGenerator\n",
       "\n",
       "    LLMUtils --> BulkAnomalyAgent\n",
       "    LLMUtils --> SingleAnomalyAgent\n",
       "\n",
       "    FileUtils --> MarkdownGenerator\n",
       "\n",
       "    SyntheticData --> SyntheticDataGenerator\n",
       "    SyntheticData --> MarkdownGenerator\n",
       "\n",
       "    SyntheticDataGenerator --> SyntheticData\n",
       "    SyntheticDataGenerator --> MarkdownGenerator\n",
       "\n",
       "    Utils --> BulkAnomalyAgent\n",
       "    Utils --> SingleAnomalyAgent\n",
       "    Utils --> SyntheticData\n",
       "\n",
       "    CalendarificAPITool --> BulkAnomalyAgent\n",
       "    CalendarificAPITool --> SingleAnomalyAgent\n",
       "\n",
       "    HolidaysAPITool --> BulkAnomalyAgent\n",
       "    HolidaysAPITool --> SingleAnomalyAgent\n",
       "\n",
       "```\n",
       "\n",
       "```mermaid\n",
       "\n",
       "\n",
       "\n",
       "```"
      ],
      "text/plain": [
       "<IPython.core.display.Markdown object>"
      ]
     },
     "metadata": {},
     "output_type": "display_data"
    }
   ],
   "source": [
    "diagram = Diagram(\n",
    "    url = url,\n",
    "    directory = None, \n",
    "    incident_summary = incident_summary,\n",
    "    llm_loglevel = LogLevel.OFF # LLMs generate wrong code a lot and so dump errors. Muting to keep this demo clean.\n",
    ")\n",
    "\n",
    "chart = diagram.generate()\n",
    "\n",
    "display(Markdown(chart))"
   ]
  }
 ],
 "metadata": {
  "kernelspec": {
   "display_name": ".venv",
   "language": "python",
   "name": "python3"
  },
  "language_info": {
   "codemirror_mode": {
    "name": "ipython",
    "version": 3
   },
   "file_extension": ".py",
   "mimetype": "text/x-python",
   "name": "python",
   "nbconvert_exporter": "python",
   "pygments_lexer": "ipython3",
   "version": "3.12.7"
  }
 },
 "nbformat": 4,
 "nbformat_minor": 2
}
