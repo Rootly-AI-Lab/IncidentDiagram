{
 "cells": [
  {
   "cell_type": "code",
   "execution_count": 4,
   "metadata": {},
   "outputs": [],
   "source": [
    "from incident_diagram.diagram import Diagram\n",
    "import os\n",
    "from IPython.display import display, Markdown, Latex\n",
    "import logging\n",
    "from smolagents import LogLevel\n"
   ]
  },
  {
   "cell_type": "markdown",
   "metadata": {},
   "source": [
    "### Modify the following commands with your values"
   ]
  },
  {
   "cell_type": "code",
   "execution_count": 5,
   "metadata": {},
   "outputs": [],
   "source": [
    "\n",
    "# Use a smallish codebase for the demo\n",
    "url = \"https://github.com/Rootly-AI-Lab/EventOrOutage\"\n",
    "\n",
    "os.environ[\"OPENAI_API_KEY\"] = os.getenv(\"OPENAI_API_KEY\") # Your OpenAI API Key\n",
    "# Read the incident summary from the example file\n",
    "with open('example_incident.txt', 'r') as f:\n",
    "    incident_summary = f.read()\n"
   ]
  },
  {
   "cell_type": "code",
   "execution_count": 6,
   "metadata": {},
   "outputs": [
    {
     "name": "stdout",
     "output_type": "stream",
     "text": [
      "Parsing code ...\n",
      "Parsing incident ...\n",
      "Generating components diagram ...\n",
      "Generating timeline ...\n",
      "Generating timeline chart ...\n"
     ]
    },
    {
     "data": {
      "text/markdown": [
       "```mermaid\n",
       "\n",
       "%% Mermaid Diagram: Incident Cause Analysis\n",
       "%% Hand-drawn style look with a top-down layout (taller than wide)\n",
       "graph TD\n",
       "    %% Define nodes (with notes for affected components)\n",
       "    CLI[\"CLI\"]\n",
       "    BulkAnomalyAgent[\"BulkAnomalyAgent<br/><i>Library update bug with wrong LLM parameters causing erroneous behavior.</i>\"]\n",
       "    SingleAnomalyAgent[\"SingleAnomalyAgent\"]\n",
       "    NaiveAnomalyDetecter[\"NaiveAnomalyDetecter\"]\n",
       "    MarkdownGenerator[\"MarkdownGenerator\"]\n",
       "    SyntheticData[\"SyntheticData\"]\n",
       "    SyntheticDataGenerator[\"SyntheticDataGenerator\"]\n",
       "    LLMUtils[\"LLMUtils\"]\n",
       "    Utils[\"Utils<br/><i>Configuration file (.env) missing bug causes systems to fail to start.</i>\"]\n",
       "    FileUtils[\"FileUtils\"]\n",
       "    HolidaysAPITool[\"HolidaysAPITool\"]\n",
       "    CalendarificAPITool[\"CalendarificAPITool\"]\n",
       "    CodeAgent[\"CodeAgent\"]\n",
       "\n",
       "    %% Define relationships (depends_on edges)\n",
       "    CLI --> SingleAnomalyAgent\n",
       "    CLI --> BulkAnomalyAgent\n",
       "    CLI --> NaiveAnomalyDetecter\n",
       "    CLI --> MarkdownGenerator\n",
       "    CLI --> Utils\n",
       "    CLI --> FileUtils\n",
       "\n",
       "    BulkAnomalyAgent --> LLMUtils\n",
       "    BulkAnomalyAgent --> HolidaysAPITool\n",
       "    BulkAnomalyAgent --> CalendarificAPITool\n",
       "    BulkAnomalyAgent --> Utils\n",
       "    BulkAnomalyAgent --> CodeAgent\n",
       "\n",
       "    SingleAnomalyAgent --> LLMUtils\n",
       "    SingleAnomalyAgent --> HolidaysAPITool\n",
       "    SingleAnomalyAgent --> CalendarificAPITool\n",
       "    SingleAnomalyAgent --> Utils\n",
       "    SingleAnomalyAgent --> CodeAgent\n",
       "\n",
       "    MarkdownGenerator --> FileUtils\n",
       "\n",
       "    SyntheticData --> CodeAgent\n",
       "    SyntheticData --> MarkdownGenerator\n",
       "\n",
       "    SyntheticDataGenerator --> SyntheticData\n",
       "    SyntheticDataGenerator --> MarkdownGenerator\n",
       "\n",
       "    %% Highlight affected components\n",
       "    classDef affected fill:#ffe6e6,stroke:#ff6666,stroke-width:2px,stroke-dasharray: 3, font-style:italic;\n",
       "\n",
       "    class BulkAnomalyAgent,Utils affected;\n",
       "\n",
       "```\n",
       "\n",
       "```mermaid\n",
       "timeline\n",
       "  title Timeline\n",
       "  02_50 PM: Broken Code Change Deployed\n",
       "  06_14 PM: Pre-prod 5xx Errors Detected\n",
       "  07_08 PM: Deployment to Production Initiated\n",
       "  07_09 PM: Production Outage Started\n",
       "  07_27 PM: Incident Mitigated and Rollback Triggered\n",
       "```"
      ],
      "text/plain": [
       "<IPython.core.display.Markdown object>"
      ]
     },
     "metadata": {},
     "output_type": "display_data"
    }
   ],
   "source": [
    "diagram = Diagram(\n",
    "    url = url,\n",
    "    directory = None, \n",
    "    incident_summary = incident_summary,\n",
    "    llm_loglevel = LogLevel.OFF # LLMs generate wrong code a lot and so dump errors. Muting to keep this demo clean.\n",
    ")\n",
    "\n",
    "chart = diagram.generate()\n",
    "\n",
    "display(Markdown(chart))"
   ]
  }
 ],
 "metadata": {
  "kernelspec": {
   "display_name": ".venv",
   "language": "python",
   "name": "python3"
  },
  "language_info": {
   "codemirror_mode": {
    "name": "ipython",
    "version": 3
   },
   "file_extension": ".py",
   "mimetype": "text/x-python",
   "name": "python",
   "nbconvert_exporter": "python",
   "pygments_lexer": "ipython3",
   "version": "3.12.7"
  }
 },
 "nbformat": 4,
 "nbformat_minor": 2
}
