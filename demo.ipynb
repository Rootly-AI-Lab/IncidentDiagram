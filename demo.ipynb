{
 "cells": [
  {
   "cell_type": "markdown",
   "metadata": {},
   "source": [
    "# Run this file after executing the following in the repo's root directory\n",
    "python -m venv .venv\n",
    "source .venv/bin/activate\n",
    "python -m pip install ."
   ]
  },
  {
   "cell_type": "code",
   "execution_count": 1,
   "metadata": {},
   "outputs": [
    {
     "name": "stderr",
     "output_type": "stream",
     "text": [
      "/Users/jebasinghemmanuel/Workspace/IncidentDiagram/.venv/lib/python3.12/site-packages/tqdm/auto.py:21: TqdmWarning: IProgress not found. Please update jupyter and ipywidgets. See https://ipywidgets.readthedocs.io/en/stable/user_install.html\n",
      "  from .autonotebook import tqdm as notebook_tqdm\n"
     ]
    }
   ],
   "source": [
    "from incident_diagram.diagram import Diagram\n",
    "import os\n",
    "from IPython.display import display, Markdown, Latex\n",
    "import logging\n",
    "from smolagents import LogLevel\n"
   ]
  },
  {
   "cell_type": "markdown",
   "metadata": {},
   "source": [
    "### Modify the following commands with your values"
   ]
  },
  {
   "cell_type": "code",
   "execution_count": 2,
   "metadata": {},
   "outputs": [],
   "source": [
    "\n",
    "# Use a smallish codebase for the demo\n",
    "url = \"https://github.com/Rootly-AI-Lab/EventOrOutage\"\n",
    "\n",
    "os.environ[\"OPENAI_API_KEY\"] = os.getenv(\"OPENAI_API_KEY\") # Your OpenAI API Key\n",
    "# Read the incident summary from the example file\n",
    "with open('example_incident.txt', 'r') as f:\n",
    "    incident_summary = f.read()\n"
   ]
  },
  {
   "cell_type": "code",
   "execution_count": 3,
   "metadata": {},
   "outputs": [
    {
     "name": "stdout",
     "output_type": "stream",
     "text": [
      "Parsing code ...\n",
      "Parsing incident ...\n",
      "Generating components diagram ...\n",
      "Generating timeline ...\n",
      "Generating timeline chart ...\n"
     ]
    },
    {
     "data": {
      "text/markdown": [
       "```mermaid\n",
       "\n",
       "%% Mermaid diagram with a hand-drawn look (simulate by the style and layout)\n",
       "graph TD\n",
       "    %% Nodes declaration\n",
       "    CLI[\"CLI\"]\n",
       "    SA[\"SingleAnomalyAgent\"]\n",
       "    BA[\"BulkAnomalyAgent<br/><i>Bug in passing wrong parameters to the LLM integration; function signature mismatch caused incorrect handling.</i>\"]\n",
       "    NAD[\"NaiveAnomalyDetecter\"]\n",
       "    MG[\"MarkdownGenerator\"]\n",
       "    FU[\"FileUtils\"]\n",
       "    LU[\"LLMUtils\"]\n",
       "    U[\"Utils<br/><i>Missing configuration file (.env) on new production machines caused system startup failure.</i>\"]\n",
       "    SD[\"SyntheticData\"]\n",
       "    SDG[\"SyntheticDataGenerator\"]\n",
       "    HA[\"HolidaysAPITool\"]\n",
       "    CAL[\"CalendarificAPITool\"]\n",
       "    \n",
       "    %% Relationships from CLI\n",
       "    CLI --> SA\n",
       "    CLI --> BA\n",
       "    CLI --> NAD\n",
       "    CLI --> MG\n",
       "    \n",
       "    %% Relationships from SingleAnomalyAgent\n",
       "    SA --> LU\n",
       "    SA --> HA\n",
       "    SA --> CAL\n",
       "    SA --> U\n",
       "    \n",
       "    %% Relationships from BulkAnomalyAgent\n",
       "    BA --> LU\n",
       "    BA --> HA\n",
       "    BA --> CAL\n",
       "    BA --> U\n",
       "    BA --> NAD\n",
       "    \n",
       "    %% Relationships from MarkdownGenerator\n",
       "    MG --> FU\n",
       "    \n",
       "    %% Relationships from SyntheticData\n",
       "    SD --> MG\n",
       "    SD --> LU\n",
       "    \n",
       "    %% Relationships from SyntheticDataGenerator\n",
       "    SDG --> SD\n",
       "    SDG --> MG\n",
       "\n",
       "    %% Define styling for affected components\n",
       "    class BA,U affected;\n",
       "    \n",
       "    %% Hand-drawn style simulation: Use dashed style for a hand drawn feel (not a true hand-drawn effect)\n",
       "    style CLI stroke-dasharray: 5, 5\n",
       "    style SA stroke-dasharray: 5, 5\n",
       "    style NAD stroke-dasharray: 5, 5\n",
       "    style MG stroke-dasharray: 5, 5\n",
       "    style FU stroke-dasharray: 5, 5\n",
       "    style LU stroke-dasharray: 5, 5\n",
       "    style SD stroke-dasharray: 5, 5\n",
       "    style SDG stroke-dasharray: 5, 5\n",
       "    style HA stroke-dasharray: 5, 5\n",
       "    style CAL stroke-dasharray: 5, 5\n",
       "\n",
       "    %% Class definition for affected nodes\n",
       "    classDef affected fill:#ffcccc,stroke:#ff0000,stroke-width:2px;\n",
       "\n",
       "```\n",
       "\n",
       "```mermaid\n",
       "timeline\n",
       "    title Deployment Timeline\n",
       "    \"02_50 PM\" : Broken Code Change Deployed\n",
       "    \"06_14 PM\" : Pre-prod 5xx Errors Start\n",
       "    \"07_08 PM\" : Production Deployment Begins\n",
       "    \"07_09 PM\" : Production 5xx Errors Begin\n",
       "    \"07_27 PM\" : Issue Detected and Rollback\n",
       "```"
      ],
      "text/plain": [
       "<IPython.core.display.Markdown object>"
      ]
     },
     "metadata": {},
     "output_type": "display_data"
    }
   ],
   "source": [
    "diagram = Diagram(\n",
    "    url = url,\n",
    "    directory = None, \n",
    "    incident_summary = incident_summary,\n",
    "    llm_loglevel = LogLevel.OFF # LLMs generate wrong code a lot and so dump errors. Muting to keep this demo clean.\n",
    ")\n",
    "\n",
    "chart = diagram.generate()\n",
    "\n",
    "display(Markdown(chart))"
   ]
  }
 ],
 "metadata": {
  "kernelspec": {
   "display_name": ".venv",
   "language": "python",
   "name": "python3"
  },
  "language_info": {
   "codemirror_mode": {
    "name": "ipython",
    "version": 3
   },
   "file_extension": ".py",
   "mimetype": "text/x-python",
   "name": "python",
   "nbconvert_exporter": "python",
   "pygments_lexer": "ipython3",
   "version": "3.12.7"
  }
 },
 "nbformat": 4,
 "nbformat_minor": 2
}
