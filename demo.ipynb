{
 "cells": [
  {
   "cell_type": "code",
   "execution_count": 4,
   "metadata": {},
   "outputs": [],
   "source": [
    "from incident_diagram.diagram import Diagram\n",
    "import os\n",
    "from IPython.display import display, Markdown, Latex\n",
    "import logging\n",
    "from smolagents import LogLevel\n"
   ]
  },
  {
   "cell_type": "markdown",
   "metadata": {},
   "source": [
    "### Modify the following commands with your values"
   ]
  },
  {
   "cell_type": "code",
   "execution_count": 5,
   "metadata": {},
   "outputs": [],
   "source": [
    "\n",
    "# Use a smallish codebase for the demo\n",
    "url = \"https://github.com/Rootly-AI-Lab/EventOrOutage\"\n",
    "\n",
    "os.environ[\"OPENAI_API_KEY\"] = \"\" # Your OpenAI API Key\n",
    "\n",
    "incident_summary = \"\"\"\n",
    "I forgot to add the .env file in the right location. \n",
    "So when the CLI was run, it wasn't able to find the .env file. \n",
    "Also there was a bug in the bulk anomaly agent. I was passing wrong parameters to the LLM.\n",
    "\"\"\""
   ]
  },
  {
   "cell_type": "code",
   "execution_count": 6,
   "metadata": {},
   "outputs": [
    {
     "ename": "AttributeError",
     "evalue": "module 'logging' has no attribute 'OFF'",
     "output_type": "error",
     "traceback": [
      "\u001b[0;31m---------------------------------------------------------------------------\u001b[0m",
      "\u001b[0;31mAttributeError\u001b[0m                            Traceback (most recent call last)",
      "Cell \u001b[0;32mIn[6], line 7\u001b[0m\n\u001b[1;32m      1\u001b[0m diagram \u001b[38;5;241m=\u001b[39m Diagram(\n\u001b[1;32m      2\u001b[0m     url \u001b[38;5;241m=\u001b[39m url,\n\u001b[1;32m      3\u001b[0m     directory \u001b[38;5;241m=\u001b[39m \u001b[38;5;28;01mNone\u001b[39;00m, \n\u001b[1;32m      4\u001b[0m     incident_summary \u001b[38;5;241m=\u001b[39m incident_summary,\n\u001b[1;32m      5\u001b[0m     model \u001b[38;5;241m=\u001b[39m \u001b[38;5;124m\"\u001b[39m\u001b[38;5;124mclaude-3-5-sonnet-20240620\u001b[39m\u001b[38;5;124m\"\u001b[39m,\n\u001b[1;32m      6\u001b[0m     llm_loglevel \u001b[38;5;241m=\u001b[39m LogLevel\u001b[38;5;241m.\u001b[39mDEBUG,\n\u001b[0;32m----> 7\u001b[0m     verbosity_level \u001b[38;5;241m=\u001b[39m \u001b[43mlogging\u001b[49m\u001b[38;5;241;43m.\u001b[39;49m\u001b[43mOFF\u001b[49m\n\u001b[1;32m      8\u001b[0m )\n\u001b[1;32m     10\u001b[0m chart \u001b[38;5;241m=\u001b[39m diagram\u001b[38;5;241m.\u001b[39mgenerate()\n\u001b[1;32m     12\u001b[0m \u001b[38;5;66;03m# chart = \"# HELLO\" \u001b[39;00m\n",
      "\u001b[0;31mAttributeError\u001b[0m: module 'logging' has no attribute 'OFF'"
     ]
    }
   ],
   "source": [
    "diagram = Diagram(\n",
    "    url = url,\n",
    "    directory = None, \n",
    "    incident_summary = incident_summary,\n",
    "    model = \"claude-3-5-sonnet-20240620\",\n",
    "    llm_loglevel = LogLevel.DEBUG,\n",
    "    verbosity_level = logging.CRITICAL\n",
    ")\n",
    "\n",
    "chart = diagram.generate()\n",
    "\n",
    "# chart = \"# HELLO\" \n",
    "display(Markdown(chart))"
   ]
  }
 ],
 "metadata": {
  "kernelspec": {
   "display_name": ".venv",
   "language": "python",
   "name": "python3"
  },
  "language_info": {
   "codemirror_mode": {
    "name": "ipython",
    "version": 3
   },
   "file_extension": ".py",
   "mimetype": "text/x-python",
   "name": "python",
   "nbconvert_exporter": "python",
   "pygments_lexer": "ipython3",
   "version": "3.12.7"
  }
 },
 "nbformat": 4,
 "nbformat_minor": 2
}
