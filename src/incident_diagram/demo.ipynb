{
 "cells": [
  {
   "cell_type": "code",
   "execution_count": null,
   "metadata": {},
   "outputs": [],
   "source": [
    "from incident_diagram.diagram import Diagram\n",
    "import os\n",
    "from IPython.display import display, Markdown, Latex\n",
    "\n",
    "import asyncio\n",
    "\n",
    "async def run():\n",
    "    print(\"started.\")\n",
    "    await asyncio.sleep(2)\n",
    "    print(\"done.\")\n",
    "\n",
    "await run()"
   ]
  },
  {
   "cell_type": "markdown",
   "metadata": {},
   "source": [
    "### Modify the following commands with your values"
   ]
  },
  {
   "cell_type": "code",
   "execution_count": 8,
   "metadata": {},
   "outputs": [],
   "source": [
    "\n",
    "# Use a smallish codebase for the demo\n",
    "url = \"https://github.com/Rootly-AI-Lab/EventOrOutage\"\n",
    "\n",
    "os.environ[\"OPENAI_API_KEY\"] = \"\" # Your OpenAI API Key\n",
    "\n",
    "incident_summary = \"\"\"\n",
    "I forgot to add the .env file in the right location. \n",
    "So when the CLI was run, it wasn't able to find the .env file. \n",
    "Also there was a bug in the bulk anomaly agent. I was passing wrong parameters to the LLM.\n",
    "\"\"\""
   ]
  },
  {
   "cell_type": "code",
   "execution_count": null,
   "metadata": {},
   "outputs": [],
   "source": [
    "diagram = Diagram(\n",
    "    url = url,\n",
    "    directory = None, \n",
    "    incident_summary = incident_summary,\n",
    "    model = \"gpt-4o\"\n",
    ")\n",
    "\n",
    "chart = Diagram.generate()\n",
    "\n",
    "# chart = \"# HELLO\" \n",
    "display(Markdown(chart))"
   ]
  }
 ],
 "metadata": {
  "kernelspec": {
   "display_name": ".venv",
   "language": "python",
   "name": "python3"
  },
  "language_info": {
   "codemirror_mode": {
    "name": "ipython",
    "version": 3
   },
   "file_extension": ".py",
   "mimetype": "text/x-python",
   "name": "python",
   "nbconvert_exporter": "python",
   "pygments_lexer": "ipython3",
   "version": "3.12.7"
  }
 },
 "nbformat": 4,
 "nbformat_minor": 2
}
